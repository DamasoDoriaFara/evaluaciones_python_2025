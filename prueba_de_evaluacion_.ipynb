{
  "nbformat": 4,
  "nbformat_minor": 0,
  "metadata": {
    "colab": {
      "provenance": [],
      "authorship_tag": "ABX9TyOhIZXQ/yWOBq+qkOdYKuo6",
      "include_colab_link": true
    },
    "kernelspec": {
      "name": "python3",
      "display_name": "Python 3"
    },
    "language_info": {
      "name": "python"
    }
  },
  "cells": [
    {
      "cell_type": "markdown",
      "metadata": {
        "id": "view-in-github",
        "colab_type": "text"
      },
      "source": [
        "<a href=\"https://colab.research.google.com/github/DamasoDoriaFara/evaluaciones_python_2025/blob/main/prueba_de_evaluacion_.ipynb\" target=\"_parent\"><img src=\"https://colab.research.google.com/assets/colab-badge.svg\" alt=\"Open In Colab\"/></a>"
      ]
    },
    {
      "cell_type": "markdown",
      "source": [],
      "metadata": {
        "id": "DHawLxQSUqhO"
      }
    },
    {
      "cell_type": "markdown",
      "source": [
        "prueba de valuación 1\n",
        "Python aplicado a la Ingeniería 202520\n",
        "Docente: Miguel Ortiz\n",
        "\n",
        "Estudiante: Damaso Doria fara\n",
        "\n",
        "email: x@upb.edu.co\n",
        "\n",
        "Fecha: 21/07/2025"
      ],
      "metadata": {
        "id": "a9iP3t7YUtdm"
      }
    },
    {
      "cell_type": "code",
      "source": [
        "import random\n",
        "\n",
        "subject = [\"Mami\", \"Bebé\", \"Princess\"]\n",
        "intention = [\"yo quiero\", \"yo puedo\", \"yo vengo a\", \"voy a\"]\n",
        "action = [\"encendelte\", \"amalte\", \"ligar\", \"jugar\"]\n",
        "adjective = [\"suave\", \"lento\", \"rápido\", \"fuerte\"]\n",
        "compl_1 = [\"hasta que salga el sol\", \"toda la noche\", \"hasta el amanecer\", \"todo el día\"]\n",
        "compl_2 = [\"sin anestecia\", \"sin compromiso\", \"feis to feis\", \"sin miedo\"]\n",
        "\n",
        "elements = [subject, intention, action, adjective, compl_1, compl_2]\n",
        "\n",
        "song = \"\"\n",
        "for element in elements:\n",
        "    song += random.choice(element) + \" \"\n",
        "\n",
        "print(song)"
      ],
      "metadata": {
        "id": "CeJne7ngU0-8"
      },
      "execution_count": null,
      "outputs": []
    }
  ]
}